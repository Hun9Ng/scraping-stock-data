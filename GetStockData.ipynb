{
 "cells": [
  {
   "cell_type": "code",
   "execution_count": 13,
   "metadata": {},
   "outputs": [],
   "source": [
    "import numpy as np\n",
    "import pandas as pd\n",
    "import requests\n",
    "import bs4\n",
    "from bs4 import BeautifulSoup\n",
    "from bs4 import element\n",
    "import datetime"
   ]
  },
  {
   "cell_type": "markdown",
   "metadata": {},
   "source": [
    "### Create period for data collection"
   ]
  },
  {
   "cell_type": "code",
   "execution_count": 14,
   "metadata": {},
   "outputs": [],
   "source": [
    "from_date = '10/05/2023'\n",
    "from_date_dt = datetime.datetime.strptime(from_date,'%d/%m/%Y').date()"
   ]
  },
  {
   "cell_type": "code",
   "execution_count": 15,
   "metadata": {},
   "outputs": [],
   "source": [
    "to_date = '19/05/2023'\n",
    "to_date_dt = datetime.datetime.strptime(to_date,'%d/%m/%Y').date()"
   ]
  },
  {
   "cell_type": "code",
   "execution_count": 16,
   "metadata": {},
   "outputs": [],
   "source": [
    "period=[]\n",
    "for i in range((to_date_dt - from_date_dt).days+1):\n",
    "    d = from_date_dt + datetime.timedelta(days=i)\n",
    "    if d.isoweekday() != 6 and d.isoweekday()!= 7:\n",
    "        period.append(d.strftime('%d/%m/%Y'))"
   ]
  },
  {
   "cell_type": "code",
   "execution_count": 17,
   "metadata": {},
   "outputs": [],
   "source": [
    "url_list = pd.DataFrame({'date':period})\n",
    "url_list['URL'] = 'https://s.cafef.vn/TraCuuLichSu2/1/HOSE/' + url_list['date'] +'.chn'"
   ]
  },
  {
   "cell_type": "code",
   "execution_count": 18,
   "metadata": {},
   "outputs": [],
   "source": [
    "# URL='https://s.cafef.vn/TraCuuLichSu2/1/HOSE/22/05/2023.chn'\n",
    "# page = requests.get(URL)\n",
    "# soup = BeautifulSoup(page.content, 'html.parser')"
   ]
  },
  {
   "cell_type": "code",
   "execution_count": 19,
   "metadata": {},
   "outputs": [],
   "source": [
    "# stock_elements = soup.find(id='ContentPlaceHolder1_ctl01_rptData_itemTR_0')\n",
    "# # stock_elements.prettify()"
   ]
  },
  {
   "cell_type": "code",
   "execution_count": 20,
   "metadata": {},
   "outputs": [],
   "source": [
    "# table_elements=soup.find(id='table2sort')\n",
    "# # table_elements.prettify()"
   ]
  },
  {
   "cell_type": "markdown",
   "metadata": {},
   "source": [
    "### Scraping data"
   ]
  },
  {
   "cell_type": "code",
   "execution_count": 21,
   "metadata": {},
   "outputs": [],
   "source": [
    "def get_elements_df(stock_elements):\n",
    "    share = []\n",
    "    change = []\n",
    "    price = []\n",
    "    share_element = stock_elements.find('td', class_='Item_DateItem_lsg')\n",
    "    price_element = stock_elements.find_all('td', class_='Item_Price1')\n",
    "    change_element = stock_elements.find('td', class_='Item_ChangePrice_lsg')\n",
    "    share.append(share_element.text.strip())\n",
    "    change.append(change_element.text.strip())\n",
    "    for p in price_element:\n",
    "        price.append(p.text.strip())\n",
    "    df = pd.DataFrame({'Mã':share,\n",
    "                       'Thay đổi':change,\n",
    "                       'Giá đóng cửa':price[0],\n",
    "                       'Giá tham chiếu':price[2],\n",
    "                       'Giá mở cửa':price[3],\n",
    "                       'Giá cao nhất':price[4],\n",
    "                       'Giá thấp nhất':price[5],\n",
    "                       'KLGD khớp lệnh':price[6],\n",
    "                       'GTGD khớp lệnh':price[7],\n",
    "                       'KLGD thỏa thuận':price[8],\n",
    "                       'GTGD thỏa thuận':price[9]})\n",
    "    return df"
   ]
  },
  {
   "cell_type": "code",
   "execution_count": 22,
   "metadata": {},
   "outputs": [],
   "source": [
    "df_each_day = pd.DataFrame(columns=['Mã', 'Thay đổi', 'Giá đóng cửa', 'Giá tham chiếu', 'Giá mở cửa',\n",
    "       'Giá cao nhất', 'Giá thấp nhất', 'KLGD khớp lệnh', 'GTGD khớp lệnh',\n",
    "       'KLGD thỏa thuận', 'GTGD thỏa thuận','Ngày'])\n",
    "#394 mã cổ phiếu\n",
    "stock_quantity=range(1,395)\n",
    "for url in url_list['URL']:\n",
    "    try:\n",
    "        page = requests.get(url)\n",
    "        page.raise_for_status()  # Raise an exception if the page returns an error status code\n",
    "        soup = BeautifulSoup(page.content, 'html.parser')\n",
    "        table_elements = soup.find(id='table2sort')\n",
    "        \n",
    "        try:\n",
    "            for i in stock_quantity:\n",
    "                df_each_day = pd.concat([df_each_day, get_elements_df(table_elements.find_all('tr')[i]).assign(Ngày=url[40:50])])\n",
    "        except Exception as e:\n",
    "            # Handle the exception raised by the get_elements_df function (e.g., print an error message)\n",
    "            print(f\"Holiday detection: {url[40:50]}\")\n",
    "    \n",
    "    except requests.exceptions.RequestException as e:\n",
    "        # Handle the exception (e.g., print an error message)\n",
    "        print(f\"Cannot access URL: {url}\")\n",
    "        continue"
   ]
  },
  {
   "cell_type": "code",
   "execution_count": 23,
   "metadata": {},
   "outputs": [],
   "source": [
    "df_each_day.reset_index(inplace=True, drop=True)"
   ]
  },
  {
   "cell_type": "markdown",
   "metadata": {},
   "source": [
    "### Export data"
   ]
  },
  {
   "cell_type": "code",
   "execution_count": 24,
   "metadata": {},
   "outputs": [],
   "source": [
    "df_each_day.to_excel('Stockdata.xlsx', index=False)"
   ]
  }
 ],
 "metadata": {
  "kernelspec": {
   "display_name": "Python 3",
   "language": "python",
   "name": "python3"
  },
  "language_info": {
   "codemirror_mode": {
    "name": "ipython",
    "version": 3
   },
   "file_extension": ".py",
   "mimetype": "text/x-python",
   "name": "python",
   "nbconvert_exporter": "python",
   "pygments_lexer": "ipython3",
   "version": "3.7.6"
  }
 },
 "nbformat": 4,
 "nbformat_minor": 5
}
